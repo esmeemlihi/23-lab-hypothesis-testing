{
 "cells": [
  {
   "cell_type": "markdown",
   "metadata": {},
   "source": [
    "# Before your start:\n",
    "- Read the README.md file\n",
    "- Comment as much as you can and use the resources (README.md file)\n",
    "- Happy learning!"
   ]
  },
  {
   "cell_type": "code",
   "execution_count": 1,
   "metadata": {},
   "outputs": [],
   "source": [
    "# import numpy and pandas\n",
    "import numpy as np \n",
    "import pandas as pd"
   ]
  },
  {
   "cell_type": "markdown",
   "metadata": {},
   "source": [
    "# Challenge 1 - Exploring the Data\n",
    "\n",
    "In this challenge, we will examine all salaries of employees of the City of Chicago. We will start by loading the dataset and examining its contents"
   ]
  },
  {
   "cell_type": "code",
   "execution_count": 2,
   "metadata": {},
   "outputs": [],
   "source": [
    "# Run this code:\n",
    "\n",
    "salaries = pd.read_csv('../Current_Employee_Names__Salaries__and_Position_Titles.csv')"
   ]
  },
  {
   "cell_type": "markdown",
   "metadata": {},
   "source": [
    "Examine the `salaries` dataset using the `head` function below."
   ]
  },
  {
   "cell_type": "code",
   "execution_count": 3,
   "metadata": {},
   "outputs": [
    {
     "data": {
      "text/html": [
       "<div>\n",
       "<style scoped>\n",
       "    .dataframe tbody tr th:only-of-type {\n",
       "        vertical-align: middle;\n",
       "    }\n",
       "\n",
       "    .dataframe tbody tr th {\n",
       "        vertical-align: top;\n",
       "    }\n",
       "\n",
       "    .dataframe thead th {\n",
       "        text-align: right;\n",
       "    }\n",
       "</style>\n",
       "<table border=\"1\" class=\"dataframe\">\n",
       "  <thead>\n",
       "    <tr style=\"text-align: right;\">\n",
       "      <th></th>\n",
       "      <th>Name</th>\n",
       "      <th>Job Titles</th>\n",
       "      <th>Department</th>\n",
       "      <th>Full or Part-Time</th>\n",
       "      <th>Salary or Hourly</th>\n",
       "      <th>Typical Hours</th>\n",
       "      <th>Annual Salary</th>\n",
       "      <th>Hourly Rate</th>\n",
       "    </tr>\n",
       "  </thead>\n",
       "  <tbody>\n",
       "    <tr>\n",
       "      <td>0</td>\n",
       "      <td>AARON,  JEFFERY M</td>\n",
       "      <td>SERGEANT</td>\n",
       "      <td>POLICE</td>\n",
       "      <td>F</td>\n",
       "      <td>Salary</td>\n",
       "      <td>NaN</td>\n",
       "      <td>101442.0</td>\n",
       "      <td>NaN</td>\n",
       "    </tr>\n",
       "    <tr>\n",
       "      <td>1</td>\n",
       "      <td>AARON,  KARINA</td>\n",
       "      <td>POLICE OFFICER (ASSIGNED AS DETECTIVE)</td>\n",
       "      <td>POLICE</td>\n",
       "      <td>F</td>\n",
       "      <td>Salary</td>\n",
       "      <td>NaN</td>\n",
       "      <td>94122.0</td>\n",
       "      <td>NaN</td>\n",
       "    </tr>\n",
       "    <tr>\n",
       "      <td>2</td>\n",
       "      <td>AARON,  KIMBERLEI R</td>\n",
       "      <td>CHIEF CONTRACT EXPEDITER</td>\n",
       "      <td>GENERAL SERVICES</td>\n",
       "      <td>F</td>\n",
       "      <td>Salary</td>\n",
       "      <td>NaN</td>\n",
       "      <td>101592.0</td>\n",
       "      <td>NaN</td>\n",
       "    </tr>\n",
       "    <tr>\n",
       "      <td>3</td>\n",
       "      <td>ABAD JR,  VICENTE M</td>\n",
       "      <td>CIVIL ENGINEER IV</td>\n",
       "      <td>WATER MGMNT</td>\n",
       "      <td>F</td>\n",
       "      <td>Salary</td>\n",
       "      <td>NaN</td>\n",
       "      <td>110064.0</td>\n",
       "      <td>NaN</td>\n",
       "    </tr>\n",
       "    <tr>\n",
       "      <td>4</td>\n",
       "      <td>ABASCAL,  REECE E</td>\n",
       "      <td>TRAFFIC CONTROL AIDE-HOURLY</td>\n",
       "      <td>OEMC</td>\n",
       "      <td>P</td>\n",
       "      <td>Hourly</td>\n",
       "      <td>20.0</td>\n",
       "      <td>NaN</td>\n",
       "      <td>19.86</td>\n",
       "    </tr>\n",
       "  </tbody>\n",
       "</table>\n",
       "</div>"
      ],
      "text/plain": [
       "                  Name                              Job Titles  \\\n",
       "0    AARON,  JEFFERY M                                SERGEANT   \n",
       "1      AARON,  KARINA   POLICE OFFICER (ASSIGNED AS DETECTIVE)   \n",
       "2  AARON,  KIMBERLEI R                CHIEF CONTRACT EXPEDITER   \n",
       "3  ABAD JR,  VICENTE M                       CIVIL ENGINEER IV   \n",
       "4    ABASCAL,  REECE E             TRAFFIC CONTROL AIDE-HOURLY   \n",
       "\n",
       "         Department Full or Part-Time Salary or Hourly  Typical Hours  \\\n",
       "0            POLICE                 F           Salary            NaN   \n",
       "1            POLICE                 F           Salary            NaN   \n",
       "2  GENERAL SERVICES                 F           Salary            NaN   \n",
       "3       WATER MGMNT                 F           Salary            NaN   \n",
       "4              OEMC                 P           Hourly           20.0   \n",
       "\n",
       "   Annual Salary  Hourly Rate  \n",
       "0       101442.0          NaN  \n",
       "1        94122.0          NaN  \n",
       "2       101592.0          NaN  \n",
       "3       110064.0          NaN  \n",
       "4            NaN        19.86  "
      ]
     },
     "execution_count": 3,
     "metadata": {},
     "output_type": "execute_result"
    }
   ],
   "source": [
    "# Your code here:\n",
    "salaries.head()"
   ]
  },
  {
   "cell_type": "markdown",
   "metadata": {},
   "source": [
    "We see from looking at the `head` function that there is quite a bit of missing data. Let's examine how much missing data is in each column. Produce this output in the cell below"
   ]
  },
  {
   "cell_type": "code",
   "execution_count": 4,
   "metadata": {},
   "outputs": [
    {
     "data": {
      "text/plain": [
       "Name                     0\n",
       "Job Titles               0\n",
       "Department               0\n",
       "Full or Part-Time        0\n",
       "Salary or Hourly         0\n",
       "Typical Hours        25161\n",
       "Annual Salary         8022\n",
       "Hourly Rate          25161\n",
       "dtype: int64"
      ]
     },
     "execution_count": 4,
     "metadata": {},
     "output_type": "execute_result"
    }
   ],
   "source": [
    "# Your code here:\n",
    "salaries_missing = salaries.isna()\n",
    "salaries_missing.sum()"
   ]
  },
  {
   "cell_type": "markdown",
   "metadata": {},
   "source": [
    "Let's also look at the count of hourly vs. salaried employees. Write the code in the cell below"
   ]
  },
  {
   "cell_type": "code",
   "execution_count": 5,
   "metadata": {},
   "outputs": [
    {
     "data": {
      "text/plain": [
       "Salary    25161\n",
       "Hourly     8022\n",
       "Name: Salary or Hourly, dtype: int64"
      ]
     },
     "execution_count": 5,
     "metadata": {},
     "output_type": "execute_result"
    }
   ],
   "source": [
    "# Your code here:\n",
    "salaries[\"Salary or Hourly\"].value_counts()"
   ]
  },
  {
   "cell_type": "markdown",
   "metadata": {},
   "source": [
    "What this information indicates is that the table contains information about two types of employees - salaried and hourly. Some columns apply only to one type of employee while other columns only apply to another kind. This is why there are so many missing values. Therefore, we will not do anything to handle the missing values."
   ]
  },
  {
   "cell_type": "markdown",
   "metadata": {},
   "source": [
    "There are different departments in the city. List all departments and the count of employees in each department."
   ]
  },
  {
   "cell_type": "code",
   "execution_count": 6,
   "metadata": {},
   "outputs": [
    {
     "data": {
      "text/html": [
       "<div>\n",
       "<style scoped>\n",
       "    .dataframe tbody tr th:only-of-type {\n",
       "        vertical-align: middle;\n",
       "    }\n",
       "\n",
       "    .dataframe tbody tr th {\n",
       "        vertical-align: top;\n",
       "    }\n",
       "\n",
       "    .dataframe thead th {\n",
       "        text-align: right;\n",
       "    }\n",
       "</style>\n",
       "<table border=\"1\" class=\"dataframe\">\n",
       "  <thead>\n",
       "    <tr style=\"text-align: right;\">\n",
       "      <th></th>\n",
       "      <th>Name</th>\n",
       "    </tr>\n",
       "    <tr>\n",
       "      <th>Department</th>\n",
       "      <th></th>\n",
       "    </tr>\n",
       "  </thead>\n",
       "  <tbody>\n",
       "    <tr>\n",
       "      <td>POLICE</td>\n",
       "      <td>13353</td>\n",
       "    </tr>\n",
       "    <tr>\n",
       "      <td>FIRE</td>\n",
       "      <td>4631</td>\n",
       "    </tr>\n",
       "    <tr>\n",
       "      <td>STREETS &amp; SAN</td>\n",
       "      <td>2193</td>\n",
       "    </tr>\n",
       "  </tbody>\n",
       "</table>\n",
       "</div>"
      ],
      "text/plain": [
       "                Name\n",
       "Department          \n",
       "POLICE         13353\n",
       "FIRE            4631\n",
       "STREETS & SAN   2193"
      ]
     },
     "execution_count": 6,
     "metadata": {},
     "output_type": "execute_result"
    }
   ],
   "source": [
    "# Your code here:\n",
    "\n",
    "Department_employees = salaries.pivot_table(values=['Name'], \n",
    "                     index=['Department'], \n",
    "                     #columns=['Department'], \n",
    "                     aggfunc={'Name': lambda x: len(x.unique())},\n",
    "                     fill_value=0)\n",
    "\n",
    "Department_employees.sort_values(\"Name\", ascending = False, axis = 0).head(3)"
   ]
  },
  {
   "cell_type": "markdown",
   "metadata": {},
   "source": [
    "# Challenge 2 - Hypothesis Tests\n",
    "\n",
    "In this section of the lab, we will test whether the hourly wage of all hourly workers is significantly different from $30/hr. Import the correct one sample test function from scipy and perform the hypothesis test for a 95% two sided confidence interval."
   ]
  },
  {
   "cell_type": "code",
   "execution_count": 91,
   "metadata": {},
   "outputs": [
    {
     "data": {
      "text/plain": [
       "Salary    25161\n",
       "Name: Salary or Hourly, dtype: int64"
      ]
     },
     "execution_count": 91,
     "metadata": {},
     "output_type": "execute_result"
    }
   ],
   "source": [
    "# Your code here:\n",
    "\n",
    "salary_only = salaries[salaries['Salary or Hourly'] == 'Salary']\n",
    "salary_only [\"Salary or Hourly\"].value_counts() # to check if indeed only rows with salsry values ar selected \n"
   ]
  },
  {
   "cell_type": "code",
   "execution_count": 28,
   "metadata": {},
   "outputs": [
    {
     "data": {
      "text/plain": [
       "count    8022.000000\n",
       "mean       32.788558\n",
       "std        12.112573\n",
       "min         2.650000\n",
       "25%        21.200000\n",
       "50%        35.600000\n",
       "75%        40.200000\n",
       "max       109.000000\n",
       "Name: Hourly Rate, dtype: float64"
      ]
     },
     "execution_count": 28,
     "metadata": {},
     "output_type": "execute_result"
    }
   ],
   "source": [
    "hourly_population = salary_only[\"Hourly Rate\"]\n",
    "hourly_population.describe()"
   ]
  },
  {
   "cell_type": "code",
   "execution_count": 86,
   "metadata": {},
   "outputs": [
    {
     "name": "stdout",
     "output_type": "stream",
     "text": [
      "z-manual =  20.621091109215907\n",
      "z-test =  20.6198057854942 \n",
      "pval=  1.8228873859286195e-94\n",
      "\n",
      "Reject null hypothesis\n"
     ]
    }
   ],
   "source": [
    "'''\n",
    "TEST ASSUMPTIONS\n",
    "H0: μ = 30 \n",
    "H1: μ ≠ 30 --> Two-sided Alternative Hypothesis because of the 'two sided confidence interval'\n",
    "\n",
    "TEST STATISTICS \n",
    "z test: z = x(mean sample) - μ / (σ/ sqrt(n)) \n",
    "\n",
    "TEST SIGNIFICANCE | ONFIDENCE INTERVAL \n",
    "α = 0.05 --> beacuse 'we neet to perform the hypothesis test for a 95%'' \n",
    "\n",
    "PREFORMIG A HYPOTHESIS TEST \n",
    "If the P chance is smaller then 0.05, \n",
    "in means actualy that the chanche that sample is different is as random chance is so litle \n",
    "is so litle, we can reject the fact that it is a change, so there should be a reason for it \n",
    "Se we can reject teh Ho hypothesis \n",
    "\n",
    "source: https://towardsdatascience.com/hypothesis-testing-in-machine-learning-using-python-a0dc89e169ce\n",
    "\n",
    "'''\n",
    "import numpy as np\n",
    "from statsmodels.stats import weightstats as stests\n",
    "\n",
    "mean = np.mean(hourly_population) # == hourly_population.describe()[1]  \n",
    "stdev = np.std(hourly_population) # == hourly_population.describe()[2] \n",
    "z_value = (mean - h0_value)/ (stdev / np.sqrt(len(hourly_population))) # Z-manual\n",
    "\n",
    "ztest ,pval = stests.ztest(hourly_population, x2=None, value=30)# Z-test itself \n",
    "\n",
    "print(\"z-manual = \", z_value)\n",
    "print(\"z-test = \", ztest, \"\\npval= \", pval)\n",
    "\n",
    "if pval<0.05:\n",
    "    print(\"\\nReject null hypothesis\")\n",
    "else:\n",
    "    print(\"\\nAccept null hypothesis\")\n"
   ]
  },
  {
   "cell_type": "code",
   "execution_count": 85,
   "metadata": {},
   "outputs": [
    {
     "name": "stdout",
     "output_type": "stream",
     "text": [
      "z_value 20.621091109215907 \n",
      "pval 0.11103048325696166\n",
      "\n",
      "Reject null hypothesis\n"
     ]
    }
   ],
   "source": [
    "''' In the case of a t test, if you do not have the whole population, it would be like this'''\n",
    "\n",
    "#t_value = (mean(of sample) - h0_value)/ (stdev(of sample)/ np.sqrt(sample_size))\n",
    "\n",
    "from scipy.stats import ttest_1samp \n",
    "\n",
    "sample_size = 100 # at least it has to be 30, because the whole population is 8000,\n",
    "hoursample = hourly_population.sample(100)\n",
    "h0_value = 30\n",
    "\n",
    "ttest_1samp(hoursample, h0_value)\n",
    "\n",
    "print(\"z_value\", z_value, \"\\npval\",ttest_1samp(hoursample, 30).pvalue )\n",
    "\n",
    "if pval<0.05:\n",
    "    print(\"\\nReject null hypothesis\")\n",
    "else:\n",
    "    print(\"\\nAccept null hypothesis\")\n",
    "\n"
   ]
  },
  {
   "cell_type": "markdown",
   "metadata": {},
   "source": [
    "We are also curious about salaries in the police force. The chief of police in Chicago claimed in a press briefing that salaries this year are higher than last year's mean of $86000/year a year for all salaried employees. Test this one sided hypothesis using a 95% confidence interval.\n",
    "\n",
    "Hint: A one tailed test has a p-value that is half of the two tailed p-value. If our hypothesis is greater than, then to reject, the test statistic must also be positive."
   ]
  },
  {
   "cell_type": "code",
   "execution_count": 159,
   "metadata": {},
   "outputs": [
    {
     "name": "stdout",
     "output_type": "stream",
     "text": [
      "Startingpoint\n",
      "\n",
      "H0: μ_police > μ_mean, \n",
      "α = 0.05, \n",
      "z-test, \n",
      "H1: μ_police < μ_mean.\n",
      "\n",
      "μ_mean = 86786\n"
     ]
    }
   ],
   "source": [
    "# Your code here:\n",
    "\n",
    "salary_only = salaries[salaries['Salary or Hourly'] == 'Salary']\n",
    "salary_only_police =  salary_only[salary_only['Department']== 'POLICE']\n",
    "mean_al = np.mean(salary_only['Annual Salary'])\n",
    "\n",
    "mean_police = np.mean(salary_only_police['Annual Salary'])\n",
    "stdev_police = np.std(salary_only_police['Annual Salary'])\n",
    "\n",
    "print(\"Startingpoint\\n\\nH0: μ_police > μ_mean, \\nα = 0.05, \\nz-test, \\nH1: μ_police < μ_mean.\\n\\nμ_mean =\", int(mean_al) )\n"
   ]
  },
  {
   "cell_type": "code",
   "execution_count": 148,
   "metadata": {},
   "outputs": [
    {
     "name": "stdout",
     "output_type": "stream",
     "text": [
      "z-test =  -1.9045545488123075 \n",
      "pval=  0.05683799952369196\n",
      "\n",
      "Reject null hypothesis\n"
     ]
    }
   ],
   "source": [
    "ztest ,pval = stests.ztest(salary_only_police['Annual Salary'], x2=None, value=mean_al)# Z-test itself \n",
    "print(\"z-test = \", ztest, \"\\npval= \", pval)\n",
    "\n",
    "if (pval/2) < (0.05):\n",
    "    print(\"\\nReject null hypothesis\")\n",
    "else:\n",
    "    print(\"\\nAccept null hypothesis\")"
   ]
  },
  {
   "cell_type": "markdown",
   "metadata": {},
   "source": [
    "Using the `crosstab` function, find the department that has the most hourly workers. "
   ]
  },
  {
   "cell_type": "code",
   "execution_count": 188,
   "metadata": {},
   "outputs": [
    {
     "data": {
      "text/html": [
       "<div>\n",
       "<style scoped>\n",
       "    .dataframe tbody tr th:only-of-type {\n",
       "        vertical-align: middle;\n",
       "    }\n",
       "\n",
       "    .dataframe tbody tr th {\n",
       "        vertical-align: top;\n",
       "    }\n",
       "\n",
       "    .dataframe thead th {\n",
       "        text-align: right;\n",
       "    }\n",
       "</style>\n",
       "<table border=\"1\" class=\"dataframe\">\n",
       "  <thead>\n",
       "    <tr style=\"text-align: right;\">\n",
       "      <th>Salary or Hourly</th>\n",
       "      <th>Hourly</th>\n",
       "    </tr>\n",
       "    <tr>\n",
       "      <th>Department</th>\n",
       "      <th></th>\n",
       "    </tr>\n",
       "  </thead>\n",
       "  <tbody>\n",
       "    <tr>\n",
       "      <td>STREETS &amp; SAN</td>\n",
       "      <td>1862</td>\n",
       "    </tr>\n",
       "    <tr>\n",
       "      <td>WATER MGMNT</td>\n",
       "      <td>1513</td>\n",
       "    </tr>\n",
       "    <tr>\n",
       "      <td>OEMC</td>\n",
       "      <td>1273</td>\n",
       "    </tr>\n",
       "    <tr>\n",
       "      <td>AVIATION</td>\n",
       "      <td>1082</td>\n",
       "    </tr>\n",
       "    <tr>\n",
       "      <td>GENERAL SERVICES</td>\n",
       "      <td>765</td>\n",
       "    </tr>\n",
       "  </tbody>\n",
       "</table>\n",
       "</div>"
      ],
      "text/plain": [
       "Salary or Hourly  Hourly\n",
       "Department              \n",
       "STREETS & SAN       1862\n",
       "WATER MGMNT         1513\n",
       "OEMC                1273\n",
       "AVIATION            1082\n",
       "GENERAL SERVICES     765"
      ]
     },
     "execution_count": 188,
     "metadata": {},
     "output_type": "execute_result"
    }
   ],
   "source": [
    "# Your code here:\n",
    "hourly = salaries[salaries['Salary or Hourly'] == 'Hourly']\n",
    "hourly_crosyab_table = pd.crosstab(hourly.Department, hourly['Salary or Hourly'])\n",
    "Department_most = hourly_crosyab_table.sort_values(by='Hourly', ascending=False).head(5)\n",
    "Department_most"
   ]
  },
  {
   "cell_type": "markdown",
   "metadata": {},
   "source": [
    "The workers from the department with the most hourly workers have complained that their hourly wage is less than $35/hour. Using a one sample t-test, test this one-sided hypothesis at the 95% confidence level."
   ]
  },
  {
   "cell_type": "code",
   "execution_count": 254,
   "metadata": {},
   "outputs": [
    {
     "name": "stdout",
     "output_type": "stream",
     "text": [
      "Startingpoint\n",
      "\n",
      "H0: μ_STREETS & SAN = 35, \n",
      "α = 0.05, \n",
      "t-test, \n",
      "H1: μ_STREETS & SAN < 35.\n",
      "\n",
      "μ_mean = 33.72837808807734\n"
     ]
    }
   ],
   "source": [
    "# Your code here:\n",
    "\n",
    "df_STREETS_SAN = hourly[hourly['Department'] == 'STREETS & SAN']\n",
    "mean_STREETS_SAN = np.mean(df_STREETS_SAN[\"Hourly Rate\"])\n",
    "mean_all_departments = np.mean(hourly[\"Hourly Rate\"])\n",
    "\n",
    "print(\"Startingpoint\\n\\nH0: μ_STREETS & SAN = 35, \\nα = 0.05, \\nt-test, \\nH1: μ_STREETS & SAN < 35.\\n\\nμ_mean =\", \n",
    "      mean_STREETS_SAN)\n"
   ]
  },
  {
   "cell_type": "code",
   "execution_count": 255,
   "metadata": {},
   "outputs": [
    {
     "name": "stdout",
     "output_type": "stream",
     "text": [
      "t-test =  -8.567610343947067 \n",
      "pval=  2.5833356532292354e-17\n",
      "\n",
      "Reject null hypothesis\n"
     ]
    }
   ],
   "source": [
    "sample_size = 1500 \n",
    "STREETS_SAN_sample = df_STREETS_SAN[\"Hourly Rate\"].sample(sample_size)\n",
    "# in this case we could take the whole population as an sample (that is the most accurate)\n",
    "h0_value = 35\n",
    "\n",
    "ttest ,pval = ttest_1samp(STREETS_SAN_sample, h0_value) \n",
    "print(\"t-test = \", ttest, \"\\npval= \", pval)\n",
    "\n",
    "if (pval/2) < (0.05):\n",
    "    print(\"\\nReject null hypothesis\")\n",
    "else:\n",
    "    print(\"\\nAccept null hypothesis\")\n",
    "\n",
    "# because the p value is negative, and it is proven that Ho ist not true: μ_STREETS & SAN =! 35\n",
    "# we know that μ_STREETS & SAN < 35 (negative t-test means smaller than H0 )\n",
    "    "
   ]
  },
  {
   "cell_type": "markdown",
   "metadata": {},
   "source": [
    "# Challenge 3 - Constructing Confidence Intervals\n",
    "\n",
    "While testing our hypothesis is a great way to gather empirical evidence for accepting or rejecting the hypothesis, another way to gather evidence is by creating a confidence interval. A confidence interval gives us information about the true mean of the population. So for a 95% confidence interval, we are 95% sure that the mean of the population is within the confidence interval. \n",
    ").\n",
    "\n",
    "To read more about confidence intervals, click [here](https://en.wikipedia.org/wiki/Confidence_interval).\n",
    "\n",
    "\n",
    "In the cell below, we will construct a 95% confidence interval for the mean hourly wage of all hourly workers. \n",
    "\n",
    "The confidence interval is computed in SciPy using the `t.interval` function. You can read more about this function [here](https://docs.scipy.org/doc/scipy-0.14.0/reference/generated/scipy.stats.t.html).\n",
    "\n",
    "To compute the confidence interval of the hourly wage, use the 0.95 for the confidence level, number of rows - 1 for degrees of freedom, the mean of the sample for the location parameter and the standard error for the scale. The standard error can be computed using [this](https://docs.scipy.org/doc/scipy/reference/generated/scipy.stats.sem.html) function in SciPy."
   ]
  },
  {
   "cell_type": "code",
   "execution_count": 260,
   "metadata": {},
   "outputs": [
    {
     "name": "stdout",
     "output_type": "stream",
     "text": [
      "mean_all_departments:  32.78855771628024 \n",
      "lower_95 32.52347487365805 \n",
      "Upper95 33.05364055890242\n"
     ]
    }
   ],
   "source": [
    "# Your code here:\n",
    "'''So for a 95% confidence interval, \n",
    "we are 95% sure that the mean of the population \n",
    "is within the confidence interva'''\n",
    "\n",
    "mean_all_departments = np.mean(hourly[\"Hourly Rate\"])\n",
    "\n",
    "from scipy import stats\n",
    "from scipy.stats import t\n",
    "data = hourly[\"Hourly Rate\"]\n",
    "\n",
    "alpha = 0.95 # confidence\n",
    "df = len(data) # length data set \n",
    "loc = np.mean(data) # mean \n",
    "sigma = np.std(data) # standard deviation of sample set \n",
    "scale = sigma/np.sqrt(df) \n",
    "\n",
    "lower_95, Upper95 = stats.t.interval(alpha, df, loc, scale) # Endpoints of the range that contains alpha percent of the distribution\n",
    "print(\"mean_all_departments: \", \n",
    "      mean_all_departments,\n",
    "    \"\\nlower_95\",lower_95, \n",
    "     '\\nUpper95', Upper95)"
   ]
  },
  {
   "cell_type": "markdown",
   "metadata": {},
   "source": [
    "Now construct the 95% confidence interval for all salaried employeed in the police in the cell below."
   ]
  },
  {
   "cell_type": "code",
   "execution_count": 266,
   "metadata": {},
   "outputs": [
    {
     "name": "stdout",
     "output_type": "stream",
     "text": [
      "mean_police:  86486 \n",
      "Lower_95:  86177 \n",
      "Upper95:  86795\n"
     ]
    }
   ],
   "source": [
    "# Your code here:\n",
    "\n",
    "mean_police = np.mean(salary_only_police['Annual Salary'])\n",
    "data = salary_only_police['Annual Salary']\n",
    "\n",
    "alpha = 0.95 # confidence\n",
    "df = len(data) # length data set \n",
    "loc = np.mean(data) # mean \n",
    "sigma = np.std(data) # standard deviation of sample set \n",
    "scale = sigma/np.sqrt(df) \n",
    "\n",
    "lower_95, Upper95 = stats.t.interval(alpha, df, loc, scale) # Endpoints of the range that contains alpha percent of the distribution\n",
    "print(\"mean_police: \", \n",
    "      int(mean_police),\n",
    "    \"\\nLower_95: \",int(lower_95), \n",
    "     '\\nUpper95: ', int(Upper95))\n"
   ]
  },
  {
   "cell_type": "markdown",
   "metadata": {},
   "source": [
    "# Challenge 4 - Hypothesis Tests of Proportions\n",
    "\n",
    "Another type of one sample test is a hypothesis test of proportions. In this test, we examine whether the proportion of a group in our sample is significantly different than a fraction. \n",
    "\n",
    "You can read more about one sample proportion tests [here](http://sphweb.bumc.bu.edu/otlt/MPH-Modules/BS/SAS/SAS6-CategoricalData/SAS6-CategoricalData2.html).\n",
    "\n",
    "In the cell below, use the `proportions_ztest` function from `statsmodels` to perform a hypothesis test that will determine whether the number of hourly workers in the City of Chicago is significantly different from 25% at the 95% confidence level."
   ]
  },
  {
   "cell_type": "code",
   "execution_count": 289,
   "metadata": {},
   "outputs": [
    {
     "name": "stdout",
     "output_type": "stream",
     "text": [
      "Salary    25161\n",
      "Hourly     8022\n",
      "Name: Salary or Hourly, dtype: int64\n",
      "\n",
      "\n",
      "Startingpoint\n",
      "\n",
      "H0: hourly workers = 25% of total, \n",
      "α = 0.05, \n",
      "proportions_ztest\n"
     ]
    }
   ],
   "source": [
    "print(salaries['Salary or Hourly'].value_counts())\n",
    "print(\"\\n\\nStartingpoint\\n\\nH0: hourly workers = 25% of total, \\nα = 0.05, \\nproportions_ztest\")\n"
   ]
  },
  {
   "cell_type": "code",
   "execution_count": 291,
   "metadata": {},
   "outputs": [
    {
     "name": "stdout",
     "output_type": "stream",
     "text": [
      "pval:  0.000448\n",
      "\n",
      "Reject null hypothesis\n"
     ]
    }
   ],
   "source": [
    "# Your code here:\n",
    "# source: https://stackoverflow.com/questions/53148935/one-sample-test-for-proportion\n",
    "# source 2: https://www.statsmodels.org/stable/generated/statsmodels.stats.proportion.proportions_ztest.html\n",
    "\n",
    "from statsmodels.stats.proportion import proportions_ztest\n",
    "\n",
    "count = 8022\n",
    "# hourly.count\n",
    "# the number of successes in nobs trials\n",
    "nobs = (8022 + 25161) \n",
    "# len(Salary_Hourly column)\n",
    "# the number of trials or observations, with the same length as count.\n",
    "value = .25 \n",
    "# P(succes) = 25% \n",
    "# This is the value of the null hypothesis equal to the proportion in the case of a one sample test.\n",
    "stat, pval = proportions_ztest(count, nobs, value)\n",
    "print(\"pval: \",'{0:0.6f}'.format(pval))\n",
    "\n",
    "if pval < (0.05):\n",
    "    print(\"\\nReject null hypothesis\")\n",
    "else:\n",
    "    print(\"\\nAccept null hypothesis\")\n"
   ]
  },
  {
   "cell_type": "code",
   "execution_count": 290,
   "metadata": {},
   "outputs": [
    {
     "data": {
      "text/plain": [
       "0.24175029382515142"
      ]
     },
     "execution_count": 290,
     "metadata": {},
     "output_type": "execute_result"
    }
   ],
   "source": [
    "# this shows that Ho is not true, pval is posiive, so the 25% proportion will be higher \n",
    "real_proportion = 8022/(8022 + 25161)\n",
    "real_proportion"
   ]
  }
 ],
 "metadata": {
  "kernelspec": {
   "display_name": "Python 3",
   "language": "python",
   "name": "python3"
  },
  "language_info": {
   "codemirror_mode": {
    "name": "ipython",
    "version": 3
   },
   "file_extension": ".py",
   "mimetype": "text/x-python",
   "name": "python",
   "nbconvert_exporter": "python",
   "pygments_lexer": "ipython3",
   "version": "3.7.4"
  }
 },
 "nbformat": 4,
 "nbformat_minor": 2
}
